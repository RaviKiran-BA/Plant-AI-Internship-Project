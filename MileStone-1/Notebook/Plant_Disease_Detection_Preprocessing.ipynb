{
 "cells": [
  {
   "cell_type": "markdown",
   "metadata": {
    "id": "JQsFQtu2oNSO"
   },
   "source": [
    "## Milestone 1 - Steps for the Image Preprocessing"
   ]
  },
  {
   "cell_type": "markdown",
   "metadata": {
    "id": "qaKp7eFZxE6r"
   },
   "source": [
    "## Importing the Dataset from Either Google Drive or Kaggle"
   ]
  },
  {
   "cell_type": "code",
   "execution_count": 1,
   "metadata": {
    "colab": {
     "base_uri": "https://localhost:8080/"
    },
    "id": "Fx1p2gBrvIzj",
    "outputId": "6a249304-3e2f-482f-8f3e-33dd2d3829db"
   },
   "outputs": [
    {
     "name": "stdout",
     "output_type": "stream",
     "text": [
      "Drive already mounted at /content/drive; to attempt to forcibly remount, call drive.mount(\"/content/drive\", force_remount=True).\n"
     ]
    }
   ],
   "source": [
    "# Mounting Google Drive\n",
    "from google.colab import drive\n",
    "drive.mount('/content/drive')"
   ]
  },
  {
   "cell_type": "markdown",
   "metadata": {
    "id": "0IbDbUW5xfEt"
   },
   "source": [
    "## Extracting the Dataset from either Google Drive or Kaggle"
   ]
  },
  {
   "cell_type": "code",
   "execution_count": 2,
   "metadata": {
    "colab": {
     "base_uri": "https://localhost:8080/"
    },
    "id": "5X_BluCnvKwa",
    "outputId": "67f85aed-e3cd-44a6-fda6-eeb3c1fa1946"
   },
   "outputs": [
    {
     "name": "stdout",
     "output_type": "stream",
     "text": [
      "['Plants']\n"
     ]
    }
   ],
   "source": [
    "# importing libraries\n",
    "import zipfile\n",
    "import os\n",
    "\n",
    "# Path to your zip file\n",
    "zip_path = '/content/drive/MyDrive/Plants.zip'\n",
    "extract_path = '/content/Extract'\n",
    "\n",
    "# Unzipping the file\n",
    "with zipfile.ZipFile(zip_path, 'r') as zip_ref:\n",
    "    zip_ref.extractall(extract_path)\n",
    "\n",
    "# Check if the extraction worked\n",
    "print(os.listdir(extract_path))"
   ]
  },
  {
   "cell_type": "markdown",
   "metadata": {
    "id": "FuRn_ZFWvOxm"
   },
   "source": [
    "## Showing the Number of Images and Classes in the Dataset"
   ]
  },
  {
   "cell_type": "code",
   "execution_count": 3,
   "metadata": {
    "colab": {
     "base_uri": "https://localhost:8080/"
    },
    "id": "urlMKLXEvZzM",
    "outputId": "6585c7fd-746f-4a73-a738-2e147a4a7117"
   },
   "outputs": [
    {
     "name": "stdout",
     "output_type": "stream",
     "text": [
      "Total number of images in '/content/Extract/Plants': 87900\n"
     ]
    }
   ],
   "source": [
    "# importing libraries\n",
    "import os\n",
    "\n",
    "def count_images_in_directory(directory):\n",
    "    # Initialize a counter for the images\n",
    "    total_images = 0\n",
    "\n",
    "    # Walk through the directory\n",
    "    for root, dirs, files in os.walk(directory):\n",
    "        for filename in files:\n",
    "            if filename.lower().endswith(('.jpg', '.jpeg', '.png')):  # Handle different image formats\n",
    "                total_images += 1\n",
    "\n",
    "    return total_images\n",
    "\n",
    "# Define the path to the cleaned_data directory\n",
    "Raw_data_data_dir = '/content/Extract/Plants'\n",
    "\n",
    "# Count the total number of images\n",
    "total_images = count_images_in_directory(Raw_data_data_dir)\n",
    "\n",
    "# Print the total number of images\n",
    "print(f\"Total number of images in '{Raw_data_data_dir}': {total_images}\")"
   ]
  },
  {
   "cell_type": "markdown",
   "metadata": {
    "id": "Hds-VSYda4hI"
   },
   "source": [
    "The image data in the dataset was already splited in train, validation and test folder so we dont need to perform data splitting operation"
   ]
  },
  {
   "cell_type": "markdown",
   "metadata": {
    "id": "6FRnkX6WIN9A"
   },
   "source": [
    "## Specifying the Path for Training, Validation and Testing\n"
   ]
  },
  {
   "cell_type": "code",
   "execution_count": null,
   "metadata": {
    "id": "Ur83FltivgKM"
   },
   "outputs": [],
   "source": [
    "# Specifying the Path for Training, Validation and Testing\n",
    "train_dir = os.path.join(extract_path, 'Plants', 'train')\n",
    "valid_dir = os.path.join(extract_path, 'Plants', 'valid')\n",
    "test_dir = os.path.join(extract_path, 'Plants', 'test')\n",
    "\n",
    "print(f\"Folders in train_dir '{os.listdir(train_dir)}'\")\n",
    "print(f\"Folders in valid_dir '{os.listdir(valid_dir)}'\")\n",
    "print(f\"Folders in test_dir '{os.listdir(test_dir)}'\")"
   ]
  },
  {
   "cell_type": "markdown",
   "metadata": {
    "id": "w1KAVeeNIQMc"
   },
   "source": [
    "## Importing the Dependencies and Libraries"
   ]
  },
  {
   "cell_type": "code",
   "execution_count": 5,
   "metadata": {
    "id": "Yfze5q_lIP3m"
   },
   "outputs": [],
   "source": [
    "# importing libraries\n",
    "import tensorflow as tf\n",
    "from tensorflow.keras.preprocessing.image import ImageDataGenerator"
   ]
  },
  {
   "cell_type": "markdown",
   "metadata": {
    "id": "T6N6kAMhH9Uz"
   },
   "source": [
    "## Image Preprocessing Code for Quality Enhancement"
   ]
  },
  {
   "cell_type": "code",
   "execution_count": null,
   "metadata": {
    "id": "9_PqJHL65YBI"
   },
   "outputs": [],
   "source": [
    "# importing libraries\n",
    "import os\n",
    "import cv2\n",
    "import numpy as np\n",
    "\n",
    "def preprocess_images(input_dir, output_dir, image_size=(224, 224)):\n",
    "    # Create the output directory\n",
    "    if not os.path.exists(output_dir):\n",
    "        os.makedirs(output_dir)\n",
    "\n",
    "    # Walk through the input directory to find images\n",
    "    for root, dirs, files in os.walk(input_dir):\n",
    "        print(f\"Processing folder: {root}\")  # Debugging\n",
    "        for filename in files:\n",
    "            if filename.lower().endswith(('.jpg', '.jpeg', '.png')):  # Handle different image formats\n",
    "                img_path = os.path.join(root, filename)\n",
    "                image = cv2.imread(img_path)\n",
    "\n",
    "                # Checking if the image was loaded correctly\n",
    "                if image is None:\n",
    "                    print(f\"Warning: Unable to load image at {img_path}. Skipping.\")\n",
    "                    continue\n",
    "\n",
    "                # Step 1: Noise Reduction\n",
    "                blurred_image = cv2.GaussianBlur(image, (5, 5), 0)\n",
    "\n",
    "                # Step 2: Color Normalization\n",
    "                normalized_image = cv2.normalize(blurred_image, None, alpha=0, beta=255, norm_type=cv2.NORM_MINMAX)\n",
    "\n",
    "                # Step 3: Image Resizing\n",
    "                resized_image = cv2.resize(normalized_image, image_size)\n",
    "\n",
    "                # Step 4: Normalization (scale pixel values to [0, 1])\n",
    "                normalized_image = resized_image / 255.0\n",
    "\n",
    "                # Create the relative output path\n",
    "                relative_path = os.path.relpath(root, input_dir)\n",
    "                output_subdir = os.path.join(output_dir, relative_path)\n",
    "\n",
    "                if not os.path.exists(output_subdir):\n",
    "                    os.makedirs(output_subdir)\n",
    "\n",
    "                output_path = os.path.join(output_subdir, filename)\n",
    "                cv2.imwrite(output_path, (normalized_image * 255).astype(np.uint8))  # Save image as uint8\n",
    "                print(f\"Processed and saved: {output_path}\")\n",
    "\n",
    "# Define your directories\n",
    "train_dir = '/content/Extract/Plants/train'\n",
    "valid_dir = '/content/Extract/Plants/valid'\n",
    "test_dir  = '/content/Extract/Plants/test'\n",
    "\n",
    "# Define output directories for Cleaned Dataset\n",
    "train_output_dir = '/content/Plant_disease_detection/train'\n",
    "valid_output_dir = '/content/Plant_disease_detection/valid'\n",
    "test_output_dir  = '/content/Plant_disease_detection/test'\n",
    "\n",
    "# Preprocess images\n",
    "preprocess_images(train_dir, train_output_dir)\n",
    "preprocess_images(valid_dir, valid_output_dir)\n",
    "preprocess_images(test_dir, test_output_dir)"
   ]
  },
  {
   "cell_type": "markdown",
   "metadata": {
    "id": "dt6oSNTPn1uf"
   },
   "source": [
    "# Finding total number of images after Image Preprocessing"
   ]
  },
  {
   "cell_type": "code",
   "execution_count": 7,
   "metadata": {
    "colab": {
     "base_uri": "https://localhost:8080/"
    },
    "id": "NJkbIIqFxwgK",
    "outputId": "5027001f-7d3e-4c8d-ca0e-74a26f5023e2"
   },
   "outputs": [
    {
     "name": "stdout",
     "output_type": "stream",
     "text": [
      "Total number of images in '/content/Plant_disease_detection': 87900\n"
     ]
    }
   ],
   "source": [
    "import os\n",
    "\n",
    "def count_images_in_directory(directory):\n",
    "    # Initialize a counter for the images\n",
    "    total_images = 0\n",
    "\n",
    "    # Walk through the directory\n",
    "    for root, dirs, files in os.walk(directory):\n",
    "        for filename in files:\n",
    "            if filename.lower().endswith(('.jpg', '.jpeg', '.png')):  # Handle different image formats\n",
    "                total_images += 1\n",
    "\n",
    "    return total_images\n",
    "\n",
    "# Define the path to the cleaned_data directory\n",
    "cleaned_data_dir = '/content/Plant_disease_detection'\n",
    "\n",
    "# Count the total number of images\n",
    "total_images = count_images_in_directory(cleaned_data_dir)\n",
    "\n",
    "# Print the total number of images\n",
    "print(f\"Total number of images in '{cleaned_data_dir}': {total_images}\")"
   ]
  },
  {
   "cell_type": "markdown",
   "metadata": {
    "id": "eGZQRULP3Ewt"
   },
   "source": [
    "# Downloading the Zip File in Google Colab"
   ]
  },
  {
   "cell_type": "code",
   "execution_count": 8,
   "metadata": {
    "colab": {
     "base_uri": "https://localhost:8080/"
    },
    "id": "W-9qrnE7xy6m",
    "outputId": "5e85755a-7be5-4776-96e7-206dbe808611"
   },
   "outputs": [
    {
     "name": "stdout",
     "output_type": "stream",
     "text": [
      "successfully Zipped '/content/Plant_disease_detection' into '/content/Plant_disease_detection.zip'\n"
     ]
    }
   ],
   "source": [
    "import shutil\n",
    "import os\n",
    "\n",
    "def zip_directory(folder_path, zip_file_path):\n",
    "    \"\"\"Zip the folder itself, including its contents.\"\"\"\n",
    "    folder_parent = os.path.dirname(folder_path)\n",
    "    folder_name = os.path.basename(folder_path)\n",
    "\n",
    "    # Zip the folder while maintaining the directory structure\n",
    "    shutil.make_archive(zip_file_path, 'zip', folder_parent, folder_name)\n",
    "\n",
    "# Define the path to the cleaned_data directory\n",
    "cleaned_data_dir = '/content/Plant_disease_detection'\n",
    "\n",
    "# Define the path for the zip file\n",
    "zip_file_path = '/content/Plant_disease_detection'\n",
    "\n",
    "# Create the zip file\n",
    "zip_directory(cleaned_data_dir, zip_file_path)\n",
    "\n",
    "print(f\"successfully Zipped '{cleaned_data_dir}' into '{zip_file_path}.zip'\")"
   ]
  }
 ],
 "metadata": {
  "colab": {
   "provenance": []
  },
  "kernelspec": {
   "display_name": "Python 3 (ipykernel)",
   "language": "python",
   "name": "python3"
  },
  "language_info": {
   "codemirror_mode": {
    "name": "ipython",
    "version": 3
   },
   "file_extension": ".py",
   "mimetype": "text/x-python",
   "name": "python",
   "nbconvert_exporter": "python",
   "pygments_lexer": "ipython3",
   "version": "3.11.3"
  }
 },
 "nbformat": 4,
 "nbformat_minor": 1
}
